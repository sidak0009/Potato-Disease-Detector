{
 "cells": [
  {
   "cell_type": "code",
   "execution_count": 3,
   "id": "b7b3dea4-d67e-4e5b-a5d7-06b425b99ce2",
   "metadata": {},
   "outputs": [],
   "source": [
    "import tensorflow as tf\n",
    "from tensorflow.keras import models, layers\n",
    "import matplotlib.pyplot as plt\n",
    "from IPython.display import HTML\n",
    "\n",
    "from tensorflow.keras.preprocessing.image import ImageDataGenerator"
   ]
  },
  {
   "cell_type": "code",
   "execution_count": 6,
   "id": "b55757d8-3e81-4b2d-8728-9441c5459f59",
   "metadata": {},
   "outputs": [
    {
     "name": "stdout",
     "output_type": "stream",
     "text": [
      "Found 1506 images belonging to 3 classes.\n"
     ]
    }
   ],
   "source": [
    "IMAGE_SIZE=256\n",
    "CHANNELS=3\n",
    "\n",
    "train_datagen=ImageDataGenerator(\n",
    "    rescale=1./255,\n",
    "    horizontal_flip=True,\n",
    "    rotation_range=10\n",
    ")\n",
    "\n",
    "train_generator=train_datagen.flow_from_directory(\n",
    "    'dataset/train',\n",
    "    target_size=(IMAGE_SIZE,IMAGE_SIZE),\n",
    "    batch_size=32,\n",
    "    class_mode='sparse',\n",
    "    \n",
    ")\n"
   ]
  },
  {
   "cell_type": "code",
   "execution_count": 7,
   "id": "c35e60c5-afd5-4597-89bf-ddc0edb6cca4",
   "metadata": {},
   "outputs": [
    {
     "name": "stdout",
     "output_type": "stream",
     "text": [
      "[[[0.6266446  0.5795858  0.6188015 ]\n",
      "  [0.61333054 0.5662717  0.6054874 ]\n",
      "  [0.62354213 0.5764833  0.615699  ]\n",
      "  ...\n",
      "  [0.5815184  0.530538   0.56583214]\n",
      "  [0.59630734 0.54532695 0.58062106]\n",
      "  [0.5960627  0.54508233 0.58037645]]\n",
      "\n",
      " [[0.62698716 0.57992834 0.619144  ]\n",
      "  [0.6133795  0.56632066 0.60553634]\n",
      "  [0.6232975  0.5762387  0.6154544 ]\n",
      "  ...\n",
      "  [0.5636154  0.512635   0.5479291 ]\n",
      "  [0.57439417 0.5234138  0.5587079 ]\n",
      "  [0.5741006  0.5231202  0.55841434]]\n",
      "\n",
      " [[0.63111347 0.58405465 0.62327033]\n",
      "  [0.621169   0.5741101  0.61332583]\n",
      "  [0.6297516  0.5826928  0.6219085 ]\n",
      "  ...\n",
      "  [0.5692731  0.5182927  0.55358684]\n",
      "  [0.569319   0.5183386  0.55363274]\n",
      "  [0.5694169  0.5184365  0.5537306 ]]\n",
      "\n",
      " ...\n",
      "\n",
      " [[0.50746113 0.46040237 0.51530427]\n",
      "  [0.50726545 0.46020663 0.5151086 ]\n",
      "  [0.5132415  0.46618268 0.52108467]\n",
      "  ...\n",
      "  [0.46074688 0.41368806 0.46859002]\n",
      "  [0.44073522 0.3936764  0.44857836]\n",
      "  [0.44299123 0.39593238 0.45083436]]\n",
      "\n",
      " [[0.49647346 0.44941464 0.50431657]\n",
      "  [0.49642453 0.4493657  0.50426763]\n",
      "  [0.5175464  0.47048765 0.52538955]\n",
      "  ...\n",
      "  [0.4687413  0.42168248 0.47658443]\n",
      "  [0.45005786 0.40299904 0.457901  ]\n",
      "  [0.4512093  0.4041505  0.45905244]]\n",
      "\n",
      " [[0.4988141  0.45175526 0.50665724]\n",
      "  [0.4989609  0.4519021  0.506804  ]\n",
      "  [0.5319619  0.48490307 0.53980505]\n",
      "  ...\n",
      "  [0.46903488 0.42197606 0.47687802]\n",
      "  [0.45020464 0.40314582 0.45804778]\n",
      "  [0.45096466 0.40390584 0.4588078 ]]]\n"
     ]
    }
   ],
   "source": [
    "for image_batch,label_batch in train_generator:\n",
    "    print(image_batch[0])\n",
    "    \n",
    "    break"
   ]
  },
  {
   "cell_type": "code",
   "execution_count": null,
   "id": "40a6cb53-88fb-44ae-a233-1db7858aba15",
   "metadata": {},
   "outputs": [],
   "source": []
  }
 ],
 "metadata": {
  "kernelspec": {
   "display_name": "Python 3 (ipykernel)",
   "language": "python",
   "name": "python3"
  },
  "language_info": {
   "codemirror_mode": {
    "name": "ipython",
    "version": 3
   },
   "file_extension": ".py",
   "mimetype": "text/x-python",
   "name": "python",
   "nbconvert_exporter": "python",
   "pygments_lexer": "ipython3",
   "version": "3.12.2"
  }
 },
 "nbformat": 4,
 "nbformat_minor": 5
}
